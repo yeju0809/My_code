{
 "cells": [
  {
   "cell_type": "markdown",
   "id": "01b6a601-9080-4a93-b3ff-4668de09d8fa",
   "metadata": {},
   "source": [
    "# BaekJoon coding test\n",
    "\n",
    "Date: 22/11/15 (Tue)\n",
    "\n",
    "## Question 1.\n",
    "Find a number 'N' when all the divisors are told as an input."
   ]
  },
  {
   "cell_type": "code",
   "execution_count": 1,
   "id": "95ec2ac9-8bb8-4b3e-a424-ae900d9d39b5",
   "metadata": {},
   "outputs": [
    {
     "name": "stdin",
     "output_type": "stream",
     "text": [
      "All divisors of N:  1 2 3 4 6 8 9 12 18 24 27 36 54 72 108 216\n"
     ]
    },
    {
     "data": {
      "text/plain": [
       "216"
      ]
     },
     "execution_count": 1,
     "metadata": {},
     "output_type": "execute_result"
    }
   ],
   "source": [
    "def findN():\n",
    "    divisor = input(\"All divisors of N: \")\n",
    "\n",
    "    D = [int(x) for x in divisor.split(\" \")]\n",
    "    if len(D) % 2 == 0:\n",
    "        result = min(D) * max(D)\n",
    "    return result\n",
    "\n",
    "findN()\n",
    "\n",
    "    # else:\n",
    "    #     result = D[(len(D)+1)/2]**2"
   ]
  },
  {
   "cell_type": "markdown",
   "id": "c546e00f-02d6-4597-abf5-82dd39dbd284",
   "metadata": {},
   "source": [
    "## Question 2.\n"
   ]
  },
  {
   "cell_type": "code",
   "execution_count": 2,
   "id": "c02c5028-cc27-4cf6-a6cf-f6b32a72308a",
   "metadata": {},
   "outputs": [
    {
     "name": "stdin",
     "output_type": "stream",
     "text": [
      " 3 2 1\n"
     ]
    },
    {
     "data": {
      "text/plain": [
       "-1"
      ]
     },
     "execution_count": 2,
     "metadata": {},
     "output_type": "execute_result"
    }
   ],
   "source": [
    "L = list(map(int, input().split(\" \")))\n",
    "\n",
    "if L[1] <= L[2]:\n",
    "    result = int(L[0]/(L[2]-L[1]) + 1)\n",
    "else:\n",
    "    result = -1\n",
    "\n",
    "result\n",
    " "
   ]
  },
  {
   "cell_type": "code",
   "execution_count": null,
   "id": "8781a89a-34d7-4f85-8a17-e3f649f5793f",
   "metadata": {},
   "outputs": [],
   "source": []
  }
 ],
 "metadata": {
  "kernelspec": {
   "display_name": "Python 3 (ipykernel)",
   "language": "python",
   "name": "python3"
  },
  "language_info": {
   "codemirror_mode": {
    "name": "ipython",
    "version": 3
   },
   "file_extension": ".py",
   "mimetype": "text/x-python",
   "name": "python",
   "nbconvert_exporter": "python",
   "pygments_lexer": "ipython3",
   "version": "3.9.13"
  }
 },
 "nbformat": 4,
 "nbformat_minor": 5
}
