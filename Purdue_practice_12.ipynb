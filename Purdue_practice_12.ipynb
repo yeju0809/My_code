{
 "cells": [
  {
   "cell_type": "markdown",
   "id": "c11df0ed-83a5-4805-9c7e-3ffadcf53f1c",
   "metadata": {},
   "source": [
    "# Prelab 12: Advanced Dictionaries\n",
    "\n",
    "## Question\n",
    "Write a function gradeBook that takes a list of dictionaries as an input where each dictionary has two keys (“ID” and “scores”) with the student ID and a list of scores as their respective values. The function outputs a single dictionary with students IDs as keys and their average score (rounded to two decimal places) as values.\n",
    "\n",
    "- Parameters: sList (list of dictionaries)\n",
    "- Return value: a dictionary where the key is the student id and the value is the average score rounded to two decimal places\n",
    "\n",
    "#### sample input/ output\n",
    "- Sample Input:\\\n",
    "sList = [{\"ID\":\"001834\", \"scores\": [54,76,42,93,76]},\\\n",
    "        {\"ID\":\"001342\", \"scores\": [45,74,33,65,81,73]},\\\n",
    "        {\"ID\":\"002536\", \"scores\": [91,53,23,87]}]\n",
    "        \n",
    "- Sample Output:\\\n",
    "{'001834': 68.2, '001342': 61.83, '002536': 63.5}\n"
   ]
  },
  {
   "cell_type": "markdown",
   "id": "2ca9f586-adab-4326-95d4-e5f0ebdea40c",
   "metadata": {},
   "source": [
    "### Questions to TA\n",
    "1. the difference between dictionary and dataframe. (Both data types have keys and values. what's the difference?)"
   ]
  },
  {
   "cell_type": "code",
   "execution_count": 34,
   "id": "ce17b27e-7316-4cb7-afd7-a67b25a3609d",
   "metadata": {},
   "outputs": [],
   "source": [
    "def gradeBook(StudentsDictList):\n",
    "    ID = []\n",
    "    avg = []\n",
    "    for i in range(len(StudentsDictList)):\n",
    "        scores = list(StudentsDictList[i].values())[1]\n",
    "        avg.append(round(sum(scores)/len(scores), 2))\n",
    "        ID.append(list(StudentsDictList[i].values())[0])\n",
    "        \n",
    "    result = {ID[i] : avg[i] for i in range(len(ID))}\n",
    "    \n",
    "    return result"
   ]
  },
  {
   "cell_type": "code",
   "execution_count": 35,
   "id": "cd091ec1-fcc0-4758-a328-ec4272bcb416",
   "metadata": {},
   "outputs": [
    {
     "data": {
      "text/plain": [
       "{'001834': 68.2, '001342': 61.83, '002536': 63.5}"
      ]
     },
     "execution_count": 35,
     "metadata": {},
     "output_type": "execute_result"
    }
   ],
   "source": [
    "sList = [{\"ID\":\"001834\", \"scores\": [54,76,42,93,76]},\n",
    "        {\"ID\":\"001342\", \"scores\": [45,74,33,65,81,73]},\n",
    "        {\"ID\":\"002536\", \"scores\": [91,53,23,87]}]\n",
    "\n",
    "gradeBook(sList)"
   ]
  },
  {
   "cell_type": "code",
   "execution_count": null,
   "id": "3f4ef9f8-4c93-418f-aef4-408983fd575c",
   "metadata": {},
   "outputs": [],
   "source": []
  }
 ],
 "metadata": {
  "kernelspec": {
   "display_name": "Python 3 (ipykernel)",
   "language": "python",
   "name": "python3"
  },
  "language_info": {
   "codemirror_mode": {
    "name": "ipython",
    "version": 3
   },
   "file_extension": ".py",
   "mimetype": "text/x-python",
   "name": "python",
   "nbconvert_exporter": "python",
   "pygments_lexer": "ipython3",
   "version": "3.9.13"
  }
 },
 "nbformat": 4,
 "nbformat_minor": 5
}
