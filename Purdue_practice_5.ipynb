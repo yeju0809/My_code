{
 "cells": [
  {
   "cell_type": "markdown",
   "id": "e35a9c6f-4680-4086-a092-809e233d457a",
   "metadata": {},
   "source": [
    "# Prelab 5\n",
    "\n",
    "## Question 1\n",
    "You are developing a piece of software that analyzes a password given by a user and prints the\n",
    "results to the screen. You are to write a Python script that:\n",
    "1. Asks the user to input a password\n",
    "2. Counts the number of capital letters in the password and prints the number\n",
    "3. Counts the number of digits in the password and prints the number\n",
    "4. Prints “Password is good!” if the sum of these two numbers is 5 or greater\n",
    "a. Otherwise, prints “Password is bad!”\n",
    "Important notes:\n",
    "● Make sure your output exactly matches the examples, including the space after the “:”\n",
    "● EDIT 9/26/22: Examples changed to show proper output. Note that for the number of\n",
    "capital letters and digits outputs, there are two spaces after the colon. Sorry about that!\n"
   ]
  },
  {
   "cell_type": "code",
   "execution_count": 72,
   "id": "dc51118e-cf99-45aa-952f-fcaea1d047ec",
   "metadata": {},
   "outputs": [
    {
     "name": "stdin",
     "output_type": "stream",
     "text": [
      "Enter a password:  HelloWorld\n"
     ]
    },
    {
     "name": "stdout",
     "output_type": "stream",
     "text": [
      "The number of capital letter: 2 \n",
      "Number of digets: 0\n",
      "Password is bad!\n"
     ]
    }
   ],
   "source": [
    "PW = input(\"Enter a password: \")\n",
    "up = 0\n",
    "num = 0\n",
    "for i in PW:\n",
    "    if i.isupper():\n",
    "        up += 1\n",
    "    if i.isnumeric():\n",
    "        num += 1\n",
    "print(\"The number of capital letter:\", up,\"\\nNumber of digets:\", num)\n",
    "if (up + num) >= 5:\n",
    "    print(\"Password is good!\")\n",
    "else:\n",
    "    print(\"Password is bad!\")\n",
    "\n"
   ]
  },
  {
   "cell_type": "markdown",
   "id": "ba688322-5b4c-498e-949b-663f9914ca51",
   "metadata": {},
   "source": [
    "## Question 2\n",
    "A Dudeney number is a positive integer such that the cube of the sum of its separate digits is\n",
    "equal to the number itself. For example, 512 is a Dudeney number since (5 + 1 + 2)\n",
    "3 = 8\n",
    "3 = 512.\n",
    "You are to write a Python script that:\n",
    "1. Finds all Dudeney numbers between 1 and 10,000 (including both 1 and 10,000) and\n",
    "appends them into a list\n",
    "2. Prints the list from least to greatest without any extra formatting\n"
   ]
  },
  {
   "cell_type": "code",
   "execution_count": 22,
   "id": "d6dd2e4d-60d8-4d84-a9c8-d84fb18a32c9",
   "metadata": {},
   "outputs": [
    {
     "name": "stdout",
     "output_type": "stream",
     "text": [
      "None\n"
     ]
    }
   ],
   "source": [
    "Sum = 0\n",
    "L= []\n",
    "for i in range(1, 13):\n",
    "    for digit in str(i):\n",
    "        Sum += int(digit)\n",
    "        if Sum**3 == i:\n",
    "            List= L.append(i)\n",
    "    Sum=0\n",
    "print(List)\n",
    "        "
   ]
  },
  {
   "cell_type": "markdown",
   "id": "6065811e-60d0-4438-83ce-bb67083ff565",
   "metadata": {},
   "source": [
    "# Lab 5\n",
    "\n",
    "## Question 1\n",
    "In math, a factor of an integer n is an integer that can divide n exactly without any remainder.\n",
    "For example, 1, 2, 3, and 6 are all factors of 6, since 6/1=6, 6/2=3, 6/3=2, and 6/6=1. You are\n",
    "tasked with developing a program that takes a number given by a user and returns all factors of\n",
    "the number. You are to write a Python script that:\n",
    "1. Asks the user to input a number\n",
    "2. Uses a for-loop to find all factors of the number and stores them into a list\n",
    "3. Prints the factors from greatest to least in the proper format, shown below\n",
    "Important notes:\n",
    "● Make sure your output exactly matches the examples, including the space after the “:”"
   ]
  },
  {
   "cell_type": "code",
   "execution_count": 5,
   "id": "cdbd4282-ee03-4885-a59a-72cd1ee0627b",
   "metadata": {},
   "outputs": [
    {
     "name": "stdin",
     "output_type": "stream",
     "text": [
      "Enter a number:  10\n"
     ]
    },
    {
     "name": "stdout",
     "output_type": "stream",
     "text": [
      "The factors are: 10, 5, 2, 1\n"
     ]
    }
   ],
   "source": [
    "num = int(input(\"Enter a number: \"))\n",
    "L= []\n",
    "print(\"The factors are:\", end= \" \")\n",
    "for i in range(1, num + 1):\n",
    "    remainder = num % i\n",
    "    if remainder == 0.0:\n",
    "        L.append(int(i))\n",
    "\n",
    "L= sorted(L, reverse= True)\n",
    "L= list(map(str, L))\n",
    "print(', '.join(L))"
   ]
  },
  {
   "cell_type": "markdown",
   "id": "29748864-7e74-4799-a1d3-2e388f6f17a7",
   "metadata": {
    "tags": []
   },
   "source": [
    "## Question 2\n",
    "\n",
    "You are tasked with developing a program that takes a string and a number given by a user and\n",
    "finds all characters that appear in the string exactly that many times. It then prints the sorted list.\n",
    "You are to write a Python script that:\n",
    "1. Asks the user to input a string and a number\n",
    "2. Counts how many times each character appears in the string and appends those that\n",
    "appear precisely the given number of times to a list\n",
    "3. Sorts the list using the sort() list method\n",
    "4. Prints the list directly without any extra formatting\n",
    "Important notes:\n",
    "● Make sure your output exactly matches the examples, including the space after the “:”\n",
    "● Characters are case-sensitive"
   ]
  },
  {
   "cell_type": "code",
   "execution_count": 54,
   "id": "2ec8a290-12fb-4e96-adfc-bd1cf099eb59",
   "metadata": {},
   "outputs": [
    {
     "name": "stdin",
     "output_type": "stream",
     "text": [
      "Enter a string:  Python is so much fun!\n",
      "Enter a number:  2\n"
     ]
    },
    {
     "name": "stdout",
     "output_type": "stream",
     "text": [
      "['h', 'n', 'o', 's', 'u']\n"
     ]
    }
   ],
   "source": [
    "string = input(\"Enter a string: \")\n",
    "num = int(input(\"Enter a number: \"))\n",
    "L = []\n",
    "\n",
    "for i in string:\n",
    "    if string.count(i) == num:\n",
    "        L.append(i)\n",
    "print(sorted(list(set(L))))"
   ]
  },
  {
   "cell_type": "code",
   "execution_count": 9,
   "id": "1f66936a-a021-41a4-bc24-26fd951b09d6",
   "metadata": {},
   "outputs": [
    {
     "name": "stdout",
     "output_type": "stream",
     "text": [
      "2\n"
     ]
    }
   ],
   "source": [
    "txt = \"I love apples, apple are my favorite fruit\"\n",
    "\n",
    "x = txt.count(\"apple\")\n",
    "\n",
    "print(x)"
   ]
  }
 ],
 "metadata": {
  "kernelspec": {
   "display_name": "Python 3 (ipykernel)",
   "language": "python",
   "name": "python3"
  },
  "language_info": {
   "codemirror_mode": {
    "name": "ipython",
    "version": 3
   },
   "file_extension": ".py",
   "mimetype": "text/x-python",
   "name": "python",
   "nbconvert_exporter": "python",
   "pygments_lexer": "ipython3",
   "version": "3.9.13"
  }
 },
 "nbformat": 4,
 "nbformat_minor": 5
}
