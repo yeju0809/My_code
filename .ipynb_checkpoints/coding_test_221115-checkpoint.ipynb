{
 "cells": [
  {
   "cell_type": "code",
   "execution_count": 1,
   "id": "95ec2ac9-8bb8-4b3e-a424-ae900d9d39b5",
   "metadata": {},
   "outputs": [
    {
     "name": "stdin",
     "output_type": "stream",
     "text": [
      "All divisors of N:  14\n"
     ]
    },
    {
     "ename": "UnboundLocalError",
     "evalue": "local variable 'result' referenced before assignment",
     "output_type": "error",
     "traceback": [
      "\u001b[1;31m---------------------------------------------------------------------------\u001b[0m",
      "\u001b[1;31mUnboundLocalError\u001b[0m                         Traceback (most recent call last)",
      "Input \u001b[1;32mIn [1]\u001b[0m, in \u001b[0;36m<cell line: 9>\u001b[1;34m()\u001b[0m\n\u001b[0;32m      6\u001b[0m         result \u001b[38;5;241m=\u001b[39m \u001b[38;5;28mmin\u001b[39m(D) \u001b[38;5;241m*\u001b[39m \u001b[38;5;28mmax\u001b[39m(D)\n\u001b[0;32m      7\u001b[0m     \u001b[38;5;28;01mreturn\u001b[39;00m result\n\u001b[1;32m----> 9\u001b[0m \u001b[43mfindN\u001b[49m\u001b[43m(\u001b[49m\u001b[43m)\u001b[49m\n",
      "Input \u001b[1;32mIn [1]\u001b[0m, in \u001b[0;36mfindN\u001b[1;34m()\u001b[0m\n\u001b[0;32m      5\u001b[0m \u001b[38;5;28;01mif\u001b[39;00m \u001b[38;5;28mlen\u001b[39m(D) \u001b[38;5;241m%\u001b[39m \u001b[38;5;241m2\u001b[39m \u001b[38;5;241m==\u001b[39m \u001b[38;5;241m0\u001b[39m:\n\u001b[0;32m      6\u001b[0m     result \u001b[38;5;241m=\u001b[39m \u001b[38;5;28mmin\u001b[39m(D) \u001b[38;5;241m*\u001b[39m \u001b[38;5;28mmax\u001b[39m(D)\n\u001b[1;32m----> 7\u001b[0m \u001b[38;5;28;01mreturn\u001b[39;00m \u001b[43mresult\u001b[49m\n",
      "\u001b[1;31mUnboundLocalError\u001b[0m: local variable 'result' referenced before assignment"
     ]
    }
   ],
   "source": [
    "def findN():\n",
    "    divisor = input(\"All divisors of N: \")\n",
    "\n",
    "    D = [int(x) for x in divisor.split(\" \")]\n",
    "    if len(D) % 2 == 0:\n",
    "        result = min(D) * max(D)\n",
    "    return result\n",
    "\n",
    "findN()\n",
    "\n",
    "    # else:\n",
    "    #     result = D[(len(D)+1)/2]**2"
   ]
  },
  {
   "cell_type": "code",
   "execution_count": 2,
   "id": "c02c5028-cc27-4cf6-a6cf-f6b32a72308a",
   "metadata": {},
   "outputs": [
    {
     "name": "stdin",
     "output_type": "stream",
     "text": [
      " 3 2 1\n"
     ]
    },
    {
     "data": {
      "text/plain": [
       "-1"
      ]
     },
     "execution_count": 2,
     "metadata": {},
     "output_type": "execute_result"
    }
   ],
   "source": [
    "L = list(map(int, input().split(\" \")))\n",
    "\n",
    "if L[1] <= L[2]:\n",
    "    result = int(L[0]/(L[2]-L[1]) + 1)\n",
    "else:\n",
    "    result = -1\n",
    "\n",
    "result\n",
    " "
   ]
  },
  {
   "cell_type": "code",
   "execution_count": null,
   "id": "8781a89a-34d7-4f85-8a17-e3f649f5793f",
   "metadata": {},
   "outputs": [],
   "source": []
  }
 ],
 "metadata": {
  "kernelspec": {
   "display_name": "Python 3 (ipykernel)",
   "language": "python",
   "name": "python3"
  },
  "language_info": {
   "codemirror_mode": {
    "name": "ipython",
    "version": 3
   },
   "file_extension": ".py",
   "mimetype": "text/x-python",
   "name": "python",
   "nbconvert_exporter": "python",
   "pygments_lexer": "ipython3",
   "version": "3.9.13"
  }
 },
 "nbformat": 4,
 "nbformat_minor": 5
}
