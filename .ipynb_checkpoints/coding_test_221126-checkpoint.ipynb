{
 "cells": [
  {
   "cell_type": "markdown",
   "id": "29bc541d-a82f-41f4-ab93-e03224c33d71",
   "metadata": {},
   "source": [
    "# Back-joon coding test\n",
    "\n",
    "Date: 22/11/26\n",
    "\n",
    "## Question\n",
    "1보다 큰 자연수 중에서  1과 자기 자신을 제외한 약수가 없는 자연수를 소수라고 한다. 예를 들어, 5는 1과 5를 제외한 약수가 없기 때문에 소수이다.\\ \n",
    "하지만, 6은 6 = 2 × 3 이기 때문에 소수가 아니다.\n",
    "\n",
    "골드바흐의 추측은 유명한 정수론의 미해결 문제로, 2보다 큰 모든 짝수는 두 소수의 합으로 나타낼 수 있다는 것이다. 이러한 수를 골드바흐 수라고 한다. 또, 짝수를 두 소수의 합으로 나타내는 표현을 그 수의 골드바흐 파티션이라고 한다. 예를 들면, 4 = 2 + 2, 6 = 3 + 3, 8 = 3 + 5, 10 = 5 + 5, 12 = 5 + 7, 14 = 3 + 11, 14 = 7 + 7이다. 10000보다 작거나 같은 모든 짝수 n에 대한 골드바흐 파티션은 존재한다.\n",
    "\n",
    "2보다 큰 짝수 n이 주어졌을 때, n의 골드바흐 파티션을 출력하는 프로그램을 작성하시오. 만약 가능한 n의 골드바흐 파티션이 여러 가지인 경우에는 두 소수의 차이가 가장 작은 것을 출력한다.\n",
    "\n",
    "### Input\n",
    "3 8 10 16\n",
    "\n",
    "### Output\n",
    "3 5\\\n",
    "5 5\\\n",
    "5 11"
   ]
  },
  {
   "cell_type": "code",
   "execution_count": 62,
   "id": "cfdbcb67-ff31-4e07-912e-0a90fd252671",
   "metadata": {},
   "outputs": [],
   "source": [
    "# isprime(x) function is checking whether the input is a prime number or not.\n",
    "def isprime(x):\n",
    "    for i in range(2, int((x ** 0.5)+1)):\n",
    "        if x % i == 0:\n",
    "            break\n",
    "    else:\n",
    "        return True\n",
    "    \n",
    "# If N is odd number, return none, if the N is double of a prime number, result would be the prime number. \n",
    "# If N is even number and n isn't a prime number, both plus and minus 1 to n until both number would be the prime numbers.\n",
    "def func(N):\n",
    "    n = N/2\n",
    "    \n",
    "    if N % 2 == 1:\n",
    "        result = None\n",
    "    \n",
    "    elif isprime(n) == True:\n",
    "        result = f\"{int(n)} {int(n)}\"\n",
    "    \n",
    "    else:\n",
    "        a, b = n-1, n+1\n",
    "        while a >= 2:\n",
    "            if isprime(a) and isprime(b):\n",
    "                result = f\"{int(a)} {int(b)}\"\n",
    "                break\n",
    "            else:\n",
    "                a -= 1\n",
    "                b += 1\n",
    "                \n",
    "    return result\n",
    "\n",
    " "
   ]
  },
  {
   "cell_type": "code",
   "execution_count": 63,
   "id": "db5b12df-376a-4a27-a1c2-df4f4f81423e",
   "metadata": {},
   "outputs": [
    {
     "name": "stdout",
     "output_type": "stream",
     "text": [
      "None\n",
      "3 5\n",
      "5 5\n",
      "5 11\n"
     ]
    }
   ],
   "source": [
    "print(func(3))\n",
    "print(func(8))\n",
    "print(func(10))\n",
    "print(func(16))"
   ]
  },
  {
   "cell_type": "code",
   "execution_count": null,
   "id": "8700ff51-4b6c-44fb-8efc-b1e52778e85d",
   "metadata": {},
   "outputs": [],
   "source": []
  }
 ],
 "metadata": {
  "kernelspec": {
   "display_name": "Python 3 (ipykernel)",
   "language": "python",
   "name": "python3"
  },
  "language_info": {
   "codemirror_mode": {
    "name": "ipython",
    "version": 3
   },
   "file_extension": ".py",
   "mimetype": "text/x-python",
   "name": "python",
   "nbconvert_exporter": "python",
   "pygments_lexer": "ipython3",
   "version": "3.9.13"
  }
 },
 "nbformat": 4,
 "nbformat_minor": 5
}
