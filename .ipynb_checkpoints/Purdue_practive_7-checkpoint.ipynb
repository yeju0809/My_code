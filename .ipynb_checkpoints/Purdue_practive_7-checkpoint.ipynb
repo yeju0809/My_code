{
 "cells": [
  {
   "cell_type": "markdown",
   "id": "e5f6e80a-8f21-4263-8fd9-ff7a7902a446",
   "metadata": {},
   "source": [
    "# Prelab 07\n",
    "\n",
    "## Question 1\n",
    "\n",
    "Write a program called swapUpperLower that will take in a string, sentence, as a parameter\n",
    "and convert all lowercase characters to uppercase and convert all uppercase characters to\n",
    "lowercase.\n",
    "Return value: string where all uppercase characters have been converted to lowercase and all\n",
    "lowercase characters have been converted to uppercase\n",
    "Return value type: string\n",
    "\n",
    "### Important notes:\n",
    "● Comments: your program should have a header and comments that explain the solution\n",
    "steps\n",
    "● main function: write the appropriate code to test the functions you implemented. This\n",
    "part will not be graded. You need to use if __name__ == \"__main__\" to call main.\n",
    "● Save your file as prelab07_q1.py and upload it to Vocareum\n",
    "\n",
    "### Hints:\n",
    "● You can utilize the function ord() to convert a character to its ASCII value\n",
    "● You can utilize the function chr() to convert an ASCII value to a character\n",
    "● As can be seen in the chart below uppercase characters have ASCII values between\n",
    "65-90 and lowercase characters have ASCII values between 97-122"
   ]
  },
  {
   "cell_type": "code",
   "execution_count": 1,
   "id": "dbf4849b-38bb-42e5-8abb-d096e54b40a4",
   "metadata": {},
   "outputs": [
    {
     "name": "stdin",
     "output_type": "stream",
     "text": [
      "Please input the sentence:  Hello World!\n"
     ]
    },
    {
     "name": "stdout",
     "output_type": "stream",
     "text": [
      "hELLO wORLD!\n"
     ]
    }
   ],
   "source": [
    "def swapUpperLower_2(sentence):\n",
    "    string = \"\"\n",
    "    for i in sentence:\n",
    "        if 65 <= ord(i) <= 90:\n",
    "            string = string[:len(string)] + (chr(ord(i)+32))                                              \n",
    "        elif 97 <= ord(i) <= 122:\n",
    "            string = string[:len(string)] + (chr(ord(i)-32))\n",
    "        else:\n",
    "            string = string[:len(string)] + i\n",
    "    return string\n",
    "            \n",
    "if __name__ == \"__main__\":\n",
    "    sentence = input(\"Please input the sentence: \")\n",
    "    print(swapUpperLower_2(sentence))"
   ]
  },
  {
   "cell_type": "markdown",
   "id": "3c9d285f-5ff3-4230-a18c-8969e7f5da22",
   "metadata": {},
   "source": [
    "## Question 2\n",
    "Write a program that will prompt the user for text and an integer value. The program will then\n",
    "utilize two functions called encrypt and decrypt that will encrypt then decrypt the text using\n",
    "a simple shift cipher with the ASCII table as the alphabet and the integer value as the shift. A\n",
    "shift cipher is a type of substitution cipher in which each letter in the text is replaced by a letter\n",
    "some fixed number of positions down the alphabet. The functions will both take in a string,\n",
    "text, that will either be encrypted or decrypted by the substitution cipher depending on the\n",
    "function, and an integer, shift,to indicate the number of positions down the alphabet each\n",
    "character should be shifted, as parameters\n",
    "Return value: string where that has been encrypted/decrypted\n",
    "Return value type: string\n",
    "\n",
    "### Important notes:\n",
    "● Comments: your program should have a header and comments that explain the solution\n",
    "steps.\n",
    "● main function: write the appropriate code to test the functions you implemented. This\n",
    "part will not be graded. You need to use if __name__ == \"__main__\" to call main.\n",
    "● Save your file as prelab07_q2.py and upload it to Vocareum\n",
    "\n",
    "### Hints:\n",
    "● You can utilize the function ord() to convert a character to its ASCII value\n",
    "● You can utilize the function chr() to convert an ASCII value to a character\n",
    "● It is important to remember that there are only 128 characters in the ASCII table and\n",
    "decimal values between 0-127. If you shift a character so that it goes beyond that range\n",
    "you will need to wrap the value of the character around so that it is still within the range.\n",
    "\n",
    "Example Input/ Output:\\\n",
    "Sample 1\\\n",
    "Please input the plaintext: Hello Worldz\\\n",
    "Plaintext: Hello Worldz\\\n",
    "Please input the amount to shift by: 10\\\n",
    "Ciphertext: Rovvy*ay|vn♦\\\n",
    "Decrypted text: Hello Worldz\\\n",
    "\n",
    "Sample 2\\\n",
    "Please input the plaintext: Welcome to CS17700\\\n",
    "Plaintext: Welcome to CS17700\\\n",
    "Please input the amount to shift by: 18\\\n",
    "Ciphertext: iw~u☺⌂w2♠☺2UeCIIBB\\\n",
    "Decrypted text: Welcome to CS17700\\\n"
   ]
  },
  {
   "cell_type": "code",
   "execution_count": 1,
   "id": "b0c1fd4a-3eca-408b-bc85-b17ed39e8fc9",
   "metadata": {},
   "outputs": [
    {
     "name": "stdin",
     "output_type": "stream",
     "text": [
      "Please input the plaintext:  Welcome to CS17700\n"
     ]
    },
    {
     "name": "stdout",
     "output_type": "stream",
     "text": [
      "Plaintext: Welcome to CS17700\n"
     ]
    },
    {
     "name": "stdin",
     "output_type": "stream",
     "text": [
      "Please input the amount to shift by:  18\n"
     ]
    },
    {
     "name": "stdout",
     "output_type": "stream",
     "text": [
      "Ciphertext: iw~u\u0001w2\u0006\u00012UeCIIBB\n",
      "Decrypted text: Welcome to CS17700\n"
     ]
    }
   ],
   "source": [
    "def encrypt(text, shift):\n",
    "    result = \"\"\n",
    "    for i in text:\n",
    "        val = ord(i)\n",
    "        num = int(shift)\n",
    "        \n",
    "        result += chr((val + num) % 128)\n",
    "    return result\n",
    "\n",
    "\n",
    "def decrypt(code, shift):\n",
    "    result = \"\"\n",
    "    for i in code:\n",
    "        val = ord(i)\n",
    "        num = int(shift)\n",
    "        \n",
    "        if val - num < 0:\n",
    "            val += 128\n",
    "            result += chr(val - num)\n",
    "        else:\n",
    "            result += chr(val - num)\n",
    "                   \n",
    "    return result\n",
    "\n",
    "\n",
    "def main():\n",
    "    text = input(\"Please input the plaintext: \")\n",
    "    print(\"Plaintext:\", text)\n",
    "    shift = input(\"Please input the amount to shift by: \")\n",
    "    code = encrypt(text, shift)\n",
    "    print(\"Ciphertext:\", code)\n",
    "    print(\"Decrypted text:\", decrypt(code, shift)) \n",
    "    \n",
    "if __name__ == \"__main__\":\n",
    "    main()"
   ]
  },
  {
   "cell_type": "code",
   "execution_count": null,
   "id": "38610db3-78f5-4667-9271-3e931f94cb70",
   "metadata": {},
   "outputs": [],
   "source": []
  }
 ],
 "metadata": {
  "kernelspec": {
   "display_name": "Python 3 (ipykernel)",
   "language": "python",
   "name": "python3"
  },
  "language_info": {
   "codemirror_mode": {
    "name": "ipython",
    "version": 3
   },
   "file_extension": ".py",
   "mimetype": "text/x-python",
   "name": "python",
   "nbconvert_exporter": "python",
   "pygments_lexer": "ipython3",
   "version": "3.9.13"
  }
 },
 "nbformat": 4,
 "nbformat_minor": 5
}
