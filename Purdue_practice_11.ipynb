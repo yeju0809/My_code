{
 "cells": [
  {
   "cell_type": "markdown",
   "id": "81cdc5b4-7c0e-4b10-9713-ce1a16fb8d36",
   "metadata": {},
   "source": [
    "# Prelab 11\n",
    "\n",
    "## Instruction\n",
    "\n",
    "Write a function called sum_dictionaries(dict1, dict2)that takes two dictionaries as\n",
    "arguments: dict1, dict2 and returns a single dictionary as output. Both dictionaries\n",
    "(dict1 and dict2) will have integers as key and value. Your function needs to return a\n",
    "dictionary that merges the two dictionaries using the following rules:\\\n",
    "● If a key occurs in both dictionaries, you need to sum up the corresponding values and\n",
    "that will become the value in the output dictionary for the given key.\\\n",
    "● If a key occurs in one dictionary and not the other, it should be included in the output\n",
    "dictionary as is.\n",
    "\n",
    "Note: You need only return the merged dictionary - there is no need to print it.\n",
    "\n",
    "Sample Output:\\\n",
    "Sample 1:\\\n",
    "dict1 = {1: 1, 2: 2, 3: 3}\\\n",
    "dict2 = {1: 3, 2: 2, 3: 1}\\\n",
    "Input: dict1, dict2\\\n",
    "Output: {1: 4, 2: 4, 3: 4}\\\n",
    "\n",
    "Sample 2:\\\n",
    "dict1 = {1: 1, 2: 2, 3: 3, 4: 4}\\\n",
    "dict2 = {1: 3, 2: 2, 3: 1}\\\n",
    "Input: dict1, dict2\\\n",
    "Output: {1: 4, 2: 4, 3: 4, 4: 4}\\\n",
    "\n",
    "Sample 3:\\\n",
    "dict1 = {1: 1, 2: 2, 3: 3, 4: 4}\\\n",
    "dict2 = {1: 3, 2: 2, 3: 1, 5: 4}\\\n",
    "Input: dict1, dict2\\\n",
    "Output: {1:4, 2:4, 3:4, 4:4, 5:4}\\\n",
    "\n",
    "Note: Your output can be in any order as long as the key: value pairs match the given\n",
    "outputs.\n",
    "\n",
    "Note: A main function is not needed in your final submission. You may use it to test your\n",
    "solution. When testing your submission, the sum_dictionaries(dict1, dict2) will be\n",
    "tested individually.\n"
   ]
  },
  {
   "cell_type": "code",
   "execution_count": 53,
   "id": "e3b329c0-c9cb-4ba4-951d-58fc60889f70",
   "metadata": {},
   "outputs": [],
   "source": [
    "def sum_dictionaries(dict1, dict2):\n",
    "    Dict = {}\n",
    "    \n",
    "    common_key = set(dict1).intersection(set(dict2))\n",
    "    keys = list(common_key)\n",
    "    \n",
    "    for i in keys:\n",
    "        Dict[i] = dict1[i] + dict2[i]\n",
    "    \n",
    "    for i in dict1.keys():\n",
    "        if not i in keys:\n",
    "            Dict[i] = dict1[i]\n",
    "            \n",
    "    for i in dict2.keys():\n",
    "        if not i in keys:\n",
    "            Dict[i] = dict2[i]\n",
    "        \n",
    "    return Dict\n",
    "    \n",
    "    "
   ]
  },
  {
   "cell_type": "code",
   "execution_count": 58,
   "id": "373232b7-7b4c-4113-b96a-0e302e06c9df",
   "metadata": {},
   "outputs": [],
   "source": [
    "dict1 = {1: 1, 2: 2, 3: 3, 4: 4}\n",
    "dict2 = {1: 3, 2: 2, 3: 1, 5: 4}"
   ]
  },
  {
   "cell_type": "code",
   "execution_count": 59,
   "id": "4962e1f0-fa7e-4681-ba4e-ecad58b5304b",
   "metadata": {},
   "outputs": [
    {
     "data": {
      "text/plain": [
       "{1: 4, 2: 4, 3: 4, 4: 4, 5: 4}"
      ]
     },
     "execution_count": 59,
     "metadata": {},
     "output_type": "execute_result"
    }
   ],
   "source": [
    "sum_dictionaries(dict1, dict2)"
   ]
  },
  {
   "cell_type": "markdown",
   "id": "74c158a6-b0b7-471c-8325-9e3174bde1b0",
   "metadata": {},
   "source": [
    "# Lab 11"
   ]
  },
  {
   "cell_type": "code",
   "execution_count": 61,
   "id": "5ca638f8-d519-4c67-8976-19c9b4a5a302",
   "metadata": {},
   "outputs": [],
   "source": [
    "def read_salaries(file_path):\n",
    "    file = open(file_path, \"r\")\n",
    "    \n",
    "    return(file)\n",
    "    "
   ]
  },
  {
   "cell_type": "code",
   "execution_count": 62,
   "id": "1d2d2886-9213-4b23-8166-a05a228d3a3d",
   "metadata": {},
   "outputs": [
    {
     "data": {
      "text/plain": [
       "<_io.TextIOWrapper name='salaries.txt' mode='r' encoding='cp949'>"
      ]
     },
     "execution_count": 62,
     "metadata": {},
     "output_type": "execute_result"
    }
   ],
   "source": [
    "read_salaries(\"salaries.txt\")"
   ]
  },
  {
   "cell_type": "code",
   "execution_count": null,
   "id": "2c4303b2-69e1-42fc-b295-3c527d55ba6f",
   "metadata": {},
   "outputs": [],
   "source": []
  }
 ],
 "metadata": {
  "kernelspec": {
   "display_name": "Python 3 (ipykernel)",
   "language": "python",
   "name": "python3"
  },
  "language_info": {
   "codemirror_mode": {
    "name": "ipython",
    "version": 3
   },
   "file_extension": ".py",
   "mimetype": "text/x-python",
   "name": "python",
   "nbconvert_exporter": "python",
   "pygments_lexer": "ipython3",
   "version": "3.9.13"
  }
 },
 "nbformat": 4,
 "nbformat_minor": 5
}
