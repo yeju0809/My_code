{
 "cells": [
  {
   "cell_type": "markdown",
   "id": "189f8d70-af75-4a33-91ac-08c3ff36eb47",
   "metadata": {},
   "source": [
    "# Question\n",
    "\n",
    "- reference: baek-joon\n",
    "- date: 22.11.18\n",
    "\n",
    "왕비를 피해 일곱 난쟁이들과 함께 평화롭게 생활하고 있던 백설공주에게 위기가 찾아왔다. \n",
    "일과를 마치고 돌아온 난쟁이가 일곱 명이 아닌 아홉 명이었던 것이다.\n",
    "아홉 명의 난쟁이는 모두 자신이 \"백설 공주와 일곱 난쟁이\"의 주인공이라고 주장했다. 뛰어난 수학적 직관력을 가지고 있던 백설공주는, \n",
    "다행스럽게도 일곱 난쟁이의 키의 합이 100이 됨을 기억해 냈다.\n",
    "아홉 난쟁이의 키가 주어졌을 때, 백설공주를 도와 일곱 난쟁이를 찾는 프로그램을 작성하시오."
   ]
  },
  {
   "cell_type": "code",
   "execution_count": 23,
   "id": "e9a7619d-5451-4b4f-b7e3-15aa06cdbd55",
   "metadata": {},
   "outputs": [
    {
     "name": "stdout",
     "output_type": "stream",
     "text": [
      "[20, 7, 23, 19, 10, 8, 13]\n"
     ]
    }
   ],
   "source": [
    "a = \"20\\n7\\n23\\n19\\n10\\n15\\n25\\n8\\n13\"\n",
    "\n",
    "l = []\n",
    "for i in a.split(\"\\n\"):\n",
    "    I = int(i)\n",
    "    l.append(I)\n",
    "\n",
    "for i in l:\n",
    "    for j in l:\n",
    "        if i < j and (i + j == sum(l) - 100):\n",
    "            l.remove(i)\n",
    "            l.remove(j)\n",
    "            \n",
    "print(l)"
   ]
  }
 ],
 "metadata": {
  "kernelspec": {
   "display_name": "Python 3 (ipykernel)",
   "language": "python",
   "name": "python3"
  },
  "language_info": {
   "codemirror_mode": {
    "name": "ipython",
    "version": 3
   },
   "file_extension": ".py",
   "mimetype": "text/x-python",
   "name": "python",
   "nbconvert_exporter": "python",
   "pygments_lexer": "ipython3",
   "version": "3.9.13"
  }
 },
 "nbformat": 4,
 "nbformat_minor": 5
}
