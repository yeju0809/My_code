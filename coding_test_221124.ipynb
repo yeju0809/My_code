{
 "cells": [
  {
   "cell_type": "markdown",
   "id": "bc522d54-17cf-4bf5-b7e2-2072e0053003",
   "metadata": {},
   "source": [
    "# Baek-joon coding test\n",
    "\n",
    "data: 2022.11.24\n",
    "\n",
    "### Question.\n",
    "베르트랑 공준은 임의의 자연수 n에 대하여, n보다 크고, 2n보다 작거나 같은 소수는 적어도 하나 존재한다는 내용을 담고 있다.\\\n",
    "이 명제는 조제프 베르트랑이 1845년에 추측했고, 파프누티 체비쇼프가 1850년에 증명했다.\\\n",
    "예를 들어, 10보다 크고, 20보다 작거나 같은 소수는 4개가 있다. (11, 13, 17, 19) 또, 14보다 크고, 28보다 작거나 같은 소수는 3개가 있다. (17,19, 23)\\\n",
    "자연수 n이 주어졌을 때, n보다 크고, 2n보다 작거나 같은 소수의 개수를 구하는 프로그램을 작성하시오. \n",
    "\n",
    "- Input: 1 10 13 100 1000 10000 100000\n",
    "- Output: 1 4 3 21 135 1033 8392"
   ]
  },
  {
   "cell_type": "code",
   "execution_count": 92,
   "id": "38f6cbd0-809c-423d-883e-60bf76edc932",
   "metadata": {},
   "outputs": [],
   "source": [
    "## Solution 1.\n",
    "\n",
    "# def func(n):\n",
    "#     result = []\n",
    "    \n",
    "#     for i in range(n+1, 2*n+1):\n",
    "#         l = []\n",
    "#         for j in range(2, i):\n",
    "#             if i % j != 0:\n",
    "#                 l.append(True)\n",
    "#             else:\n",
    "#                 l.append(False)\n",
    "#         if not False in l:\n",
    "#             result.append(i)\n",
    "            \n",
    "#     return len(result)        \n",
    "\n",
    "## Solution 2.\n",
    "\n",
    "def func(n):\n",
    "    result = list(range(n+1, 2*n+1))\n",
    "    cnt = 0\n",
    "    for i in range(n+1, 2*n):\n",
    "        \n",
    "        for j in range(2, int(i**0.5) + 1):\n",
    "            if i % j == 0:\n",
    "                break\n",
    "        else:\n",
    "            cnt += 1\n",
    "                  \n",
    "    return cnt     "
   ]
  },
  {
   "cell_type": "code",
   "execution_count": 91,
   "id": "acb457ae-160c-4fbc-97a8-556fc1fd2aac",
   "metadata": {},
   "outputs": [
    {
     "data": {
      "text/plain": [
       "8392"
      ]
     },
     "execution_count": 91,
     "metadata": {},
     "output_type": "execute_result"
    }
   ],
   "source": [
    "func(100000)"
   ]
  }
 ],
 "metadata": {
  "kernelspec": {
   "display_name": "Python 3 (ipykernel)",
   "language": "python",
   "name": "python3"
  },
  "language_info": {
   "codemirror_mode": {
    "name": "ipython",
    "version": 3
   },
   "file_extension": ".py",
   "mimetype": "text/x-python",
   "name": "python",
   "nbconvert_exporter": "python",
   "pygments_lexer": "ipython3",
   "version": "3.9.13"
  }
 },
 "nbformat": 4,
 "nbformat_minor": 5
}
