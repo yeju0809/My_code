{
 "cells": [
  {
   "cell_type": "markdown",
   "id": "2d120054-2f3c-4392-9215-b2d71068c406",
   "metadata": {},
   "source": [
    "# Prelab 08\n",
    "\n",
    "## Assignment Description\n",
    "\n",
    "Consider a fictional competition with several teams, where the goal is to earn as many\n",
    "points as possible. You have been given a file containing all the teams and their points,\n",
    "and your job is to read from this file to determine who won and provide a visual\n",
    "representation of the scores\\\n",
    "Begin by locating the file competition.txt in Vocareum in the startercode folder\n",
    "This is the file you will be reading from. Each line in competition.txt represents one\n",
    "team and is ordered like the following:\\\n",
    "Team Name,Score:\\\n",
    "Create a new file called prelab08.py and add at least two lines of descriptive header\n",
    "comments (CS 177, your name, the date, what this assignment is about). As a first step,\n",
    "import the library matplotlib.pyplot\\\n",
    "import matplotlib.pyplot as plt\\\n",
    "\n",
    "If you get an error in IDLE that says “module not found,” you likely do not have\n",
    "matplotlib installed. Take the following steps to install matplotlib:\n",
    "\n",
    "1. Open a terminal window. On Mac or Linux, this can be achieved by finding the\n",
    "“Terminal” application; on Windows, you will want to open “Command Prompt”\n",
    "\n",
    "2. In the terminal, type or paste the following command and hit enter:\n",
    "python -m pip install matplotlib\n",
    "\n",
    "This will utilize pip, a built-in package installer, to install matplotlib on your\n",
    "computer. If that command does not work, try one of the following:\\\n",
    "python3 -m pip install matplotlib\\\n",
    "pip3 install matplotlib\\\n",
    "\n",
    "If you get an error stating that you do not have pip, it likely means there is a\n",
    "problem with your Python installation. In this case, uninstall and reinstall Python\n",
    "and IDLE.\n",
    "\n",
    "3. If, after running the above command, you still get an error in IDLE, try fully\n",
    "closing and re-opening IDLE to see if that fixes the issue.\n",
    "\n",
    "In this prelab, you will:\\\n",
    "1. Implement  function: readTeamInfo(filename)\n",
    "2. Read user input in main() and call those three functions\n"
   ]
  },
  {
   "cell_type": "code",
   "execution_count": 2,
   "id": "d51a10fc-db0f-4361-919b-f2b16a7f3097",
   "metadata": {},
   "outputs": [],
   "source": [
    "import matplotlib.pyplot as plt"
   ]
  },
  {
   "cell_type": "code",
   "execution_count": 3,
   "id": "3cceada5-6a57-4ad2-b39b-76c86e8a05b7",
   "metadata": {},
   "outputs": [],
   "source": [
    "def readTeamInfo(filename):\n",
    "    lines = filename.readline()\n",
    "    count = 1\n",
    "    for l in lines:\n",
    "        result = [l]\n",
    "        count += 1\n",
    "    return result\n",
    "        "
   ]
  },
  {
   "cell_type": "code",
   "execution_count": 5,
   "id": "c1dd171c-ee3f-4d03-8fc1-6059abe6123a",
   "metadata": {},
   "outputs": [
    {
     "name": "stdout",
     "output_type": "stream",
     "text": [
      "['Gumball Gooeys,350', 'Hudson Family,400', 'Epic Sunset Warrior Samurai,10', 'Jim,800', \"We Can't Think of a Good Name,530\"]\n"
     ]
    }
   ],
   "source": [
    "def readTeamInfo(filename):\n",
    "    with open(filename, \"r\") as f:\n",
    "        List = f.read().split(\"\\n\")\n",
    "        print(List)\n",
    "        # for i in List:\n",
    "        #     result = i.split(\",\")\n",
    "        #     result[1] = int(result[1])\n",
    "        # return result\n",
    "        \n",
    "\n",
    "readTeamInfo(\"competition.txt\")"
   ]
  },
  {
   "cell_type": "code",
   "execution_count": 6,
   "id": "e8156264-663c-4dfe-b3bc-e27e017785c2",
   "metadata": {},
   "outputs": [
    {
     "name": "stdout",
     "output_type": "stream",
     "text": [
      "Gumball Gooeys,350\n",
      "Hudson Family,400\n",
      "Epic Sunset Warrior Samurai,10\n",
      "Jim,800\n",
      "We Can't Think of a Good Name,530\n"
     ]
    }
   ],
   "source": [
    "file = open(\"competition.txt\", \"r\")\n",
    "print(file.read())"
   ]
  },
  {
   "cell_type": "code",
   "execution_count": 7,
   "id": "c9eb579b-5eea-4a62-bfb6-aa3f3989e6f4",
   "metadata": {},
   "outputs": [
    {
     "data": {
      "text/plain": [
       "['Gumball Gooeys,350\\n',\n",
       " 'Hudson Family,400\\n',\n",
       " 'Epic Sunset Warrior Samurai,10\\n',\n",
       " 'Jim,800\\n',\n",
       " \"We Can't Think of a Good Name,530\"]"
      ]
     },
     "execution_count": 7,
     "metadata": {},
     "output_type": "execute_result"
    }
   ],
   "source": [
    "def readTeamInfo(filename):\n",
    "    with open(filename, \"r\") as f:\n",
    "        line = f.readlines()\n",
    "        return line\n",
    "    \n",
    "readTeamInfo(\"competition.txt\")"
   ]
  },
  {
   "cell_type": "code",
   "execution_count": 8,
   "id": "c371851f-6382-4b0c-a445-01440c9d04d1",
   "metadata": {},
   "outputs": [
    {
     "data": {
      "text/plain": [
       "['Hudson Family,400\\n']"
      ]
     },
     "execution_count": 8,
     "metadata": {},
     "output_type": "execute_result"
    }
   ],
   "source": [
    "def readTeamInfo(filename):\n",
    "    with open(filename, \"r\") as f:\n",
    "        line = f.readlines()\n",
    "        for i in range(1, len(line)+1):\n",
    "            return [line[i]]\n",
    "        \n",
    "readTeamInfo(\"competition.txt\")"
   ]
  }
 ],
 "metadata": {
  "kernelspec": {
   "display_name": "Python 3 (ipykernel)",
   "language": "python",
   "name": "python3"
  },
  "language_info": {
   "codemirror_mode": {
    "name": "ipython",
    "version": 3
   },
   "file_extension": ".py",
   "mimetype": "text/x-python",
   "name": "python",
   "nbconvert_exporter": "python",
   "pygments_lexer": "ipython3",
   "version": "3.9.13"
  }
 },
 "nbformat": 4,
 "nbformat_minor": 5
}
