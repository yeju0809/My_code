{
 "cells": [
  {
   "cell_type": "markdown",
   "id": "ceb7ec68-2a63-4918-989f-77a4366218d7",
   "metadata": {},
   "source": [
    "# Prelab 10\n",
    "\n",
    "## Question 1\n",
    "\n",
    "You are developing software for a game where players online can have different usernames.\n",
    "You are tasked with developing a function that compares two usernames and returns all unique\n",
    "characters that are in one username, but not the other. For example, given two usernames\n",
    "“Gamer82” and “Frogger98”, the characters that are in exactly one username are “G”, “a”, “m”,\n",
    "“2”, “F”, “o’, “g”, and “9”. You are to create a Python function compareUsernames which:\n",
    "1. Takes two strings as input\n",
    "2. Finds all characters that are in exactly one username\n",
    "3. Return a set containing these characters\n",
    "\n",
    "Important notes:\n",
    "● Feel free to use the template code provided in the lab as a starting point\\\n",
    "● In mathematics, if we consider the two usernames to be sets, this problem is equivalent\n",
    "to finding the symmetric difference between the two\\\n",
    "● Note that for the examples, the order of the elements may differ between runs, and this\n",
    "is okay since sets are unordered\\\n",
    "\n",
    "\n",
    "Example Inputs and Outputs:\\\n",
    "Sample 1:\\\n",
    "print(compareUsernames(“apple”, “party”))\\\n",
    "{'r', 'y', 'e', 'l', 't'}\\\n",
    "Sample 2:\\\n",
    "print(compareUsernames(“Gamer82”, “Frogger98”))\\\n",
    "{'a', 'o', 'g', 'G', '9', 'm', '2', 'F'}"
   ]
  },
  {
   "cell_type": "code",
   "execution_count": 1,
   "id": "c47a68f5-7891-4343-9c32-f8128c498970",
   "metadata": {},
   "outputs": [
    {
     "name": "stdout",
     "output_type": "stream",
     "text": [
      "{'t', 'r', 'e', 'y', 'l'}\n",
      "{'F', '9', 'a', 'm', 'G', '2', 'o', 'g'}\n"
     ]
    }
   ],
   "source": [
    "def compareUsernames(name1, name2):\n",
    "    return set(name1).symmetric_difference(set(name2))\n",
    "\n",
    "print(compareUsernames(\"apple\", \"party\"))\n",
    "print(compareUsernames('Gamer82', 'Frogger98'))"
   ]
  },
  {
   "cell_type": "markdown",
   "id": "6152ac60-3280-4d79-97e5-4a4a95260f52",
   "metadata": {},
   "source": [
    "## Question 2\n",
    "\n",
    "In geometry, a midpoint is the point on a line segment that divides it into two equal parts. For\n",
    "example, given a line segment 𝑃𝑄 where 𝑃 = (0, 0, 0) and 𝑄 = (2, 4, 6), the midpoint 𝑀 of\n",
    "𝑃𝑄 is (1, 2, 3). You are tasked with creating a Python function findMidpoint which:\n",
    "1. Takes two tuples as input\n",
    "2. Finds the midpoint of the two tuples\n",
    "3. Returns the midpoint as a tuple\n",
    "\n",
    "Important notes:/\n",
    "● Feel free to use the template code provided in the lab as a starting point/\n",
    "● Note that the length of the two tuples can vary, but they will always have the same length\n",
    "as each other\n",
    "\n",
    "Example Inputs and Outputs:/\n",
    "Sample 1:/\n",
    "print(findMidpoint((7, 4, 3), (-1, 2, 5))) /\n",
    "(3.0, 3.0, 4.0)/\n",
    "Sample 2:/\n",
    "print(findMidpoint((98, 24), (98, -75)))/\n",
    "(98.0, -25.5)/\n"
   ]
  },
  {
   "cell_type": "code",
   "execution_count": 1,
   "id": "56fc5f28-df30-4daa-b046-9df01e06e254",
   "metadata": {},
   "outputs": [
    {
     "data": {
      "text/plain": [
       "(3.0, 3.0, 4.0)"
      ]
     },
     "execution_count": 1,
     "metadata": {},
     "output_type": "execute_result"
    }
   ],
   "source": [
    "def findMidpoint(a, b):\n",
    "    result = []\n",
    "    for i in range(len(a)):\n",
    "        val = (a[i] + b[i])/2\n",
    "        result.append(val)\n",
    "    R = tuple(result)\n",
    "    return R\n",
    "\n",
    "c= (7, 4, 3)\n",
    "d= (-1, 2, 5)\n",
    "\n",
    "findMidpoint(c, d)\n"
   ]
  },
  {
   "cell_type": "markdown",
   "id": "f2a365ee-1074-46cd-8827-6b0bea745ebc",
   "metadata": {},
   "source": [
    "# Lab 10\n",
    "\n",
    "## Question 1\n",
    "\n",
    "You are tasked with writing a function which, given three sets A, B, and C, finds all elements\n",
    "which exist in A and in B, but not in C. You are two create a function findElements which:\n",
    "1. Takes three sets as input\n",
    "2. Finds all elements that exist in the first and second sets, but not the third set\n",
    "3. Returns a set containing these elements\n",
    "\n",
    "Important notes:\n",
    "● Feel free to use the template code provided in the lab as a starting point\n",
    "● Note that for the examples, the order of the elements may differ between runs, and this\n",
    "is okay since sets are unordered\n",
    "\n",
    "Example Inputs and Outputs:\\\n",
    "Sample 1:\\\n",
    "print(findElements({1, 2, 3}, {2, 3, 4}, {3, 4, 5}))\\\n",
    "{2}\\\n",
    "Sample 2:\\\n",
    "print(findElements({\"h\", \"e\", \"l\", \"l\", \"o\"}, {\"s\", \"h\", \"e\", \"l\",\n",
    "\"l\"}, {\"p\", \"e\", \"a\", \"k\"}))\\\n",
    "{‘l’, ‘h’}"
   ]
  },
  {
   "cell_type": "code",
   "execution_count": 3,
   "id": "ba880ffe-bfa5-4940-92ca-555fc0696172",
   "metadata": {},
   "outputs": [
    {
     "data": {
      "text/plain": [
       "{'h', 'l'}"
      ]
     },
     "execution_count": 3,
     "metadata": {},
     "output_type": "execute_result"
    }
   ],
   "source": [
    "def findElements(s1, s2, s3):\n",
    "    return s1.intersection(s2) - s3\n",
    "\n",
    "findElements({\"h\", \"e\", \"l\", \"l\", \"o\"}, {\"s\", \"h\", \"e\", \"l\", \"l\"}, {\"p\", \"e\", \"a\", \"k\"})"
   ]
  },
  {
   "cell_type": "markdown",
   "id": "8814d627-736a-4c55-a6eb-99ada76c8a76",
   "metadata": {},
   "source": [
    "## Question 2\n",
    "\n",
    "You are tasked with developing a function that compares the contents of two tuples, where it\n",
    "collects all elements that are shared by the two tuples at the same index. You are to write a\n",
    "function compareTuples which:\n",
    "1. Takes two tuples as input\n",
    "2. Iterates through the tuples, comparing the elements of the two at each index\n",
    "3. Collects the element if it is the same between the two tuples\n",
    "4. Returns the elements as a tuple\n",
    "\n",
    "Important notes:\\\n",
    "● Feel free to use the template code provided in the lab as a starting point\\\n",
    "● Note that the length of the two tuples can vary, and they may have different lengths from\n",
    "each other\\\n",
    "\n",
    "Example Inputs and Outputs:\\\n",
    "Sample 1:\\\n",
    "print(compareTuples((1, 2, 3, 4, 5), (2, 2, 4, 4, 6)))\\\n",
    "(2, 4)\\\n",
    "Sample 2:\\\n",
    "print(compareTuples((\"p\", \"y\", \"t\", \"h\", \"o\", \"n\"), (\"b\", \"a\", \"t\",\n",
    "\"h\", \"e\")))\\\n",
    "('t', 'h')\\\n"
   ]
  },
  {
   "cell_type": "code",
   "execution_count": 1,
   "id": "d1ef929b-e8c0-4360-bf43-2b11b9f71e1a",
   "metadata": {},
   "outputs": [
    {
     "name": "stdout",
     "output_type": "stream",
     "text": [
      "(2, 4)\n",
      "('t', 'h')\n"
     ]
    }
   ],
   "source": [
    "def compareTuples(t1, t2):\n",
    "    result = []\n",
    "    for i in range(min(len(t1), len(t2))):\n",
    "        if t1[i] == t2[i]:\n",
    "            result.append(t1[i])\n",
    "    R = tuple(result)\n",
    "    return R\n",
    "            \n",
    "\n",
    "print(compareTuples((1, 2, 3, 4, 5), (2, 2, 4, 4, 6)))\n",
    "print(compareTuples((\"p\", \"y\", \"t\", \"h\", \"o\", \"n\"), (\"b\", \"a\", \"t\", \"h\", \"e\")))"
   ]
  }
 ],
 "metadata": {
  "kernelspec": {
   "display_name": "Python 3 (ipykernel)",
   "language": "python",
   "name": "python3"
  },
  "language_info": {
   "codemirror_mode": {
    "name": "ipython",
    "version": 3
   },
   "file_extension": ".py",
   "mimetype": "text/x-python",
   "name": "python",
   "nbconvert_exporter": "python",
   "pygments_lexer": "ipython3",
   "version": "3.9.13"
  }
 },
 "nbformat": 4,
 "nbformat_minor": 5
}
