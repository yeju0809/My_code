{
 "cells": [
  {
   "cell_type": "markdown",
   "id": "12cdf2b0-8b3b-40b7-82de-3b2235b36720",
   "metadata": {},
   "source": [
    "# Prelab 06\n",
    "\n",
    "## Question 1\n",
    " \n",
    " Write a function to calculate the Body Mass Index (BMI) of a person. Name the function body_mass_index, which takes two input arguments (the height of the person in inches h_inches, and their weight in pounds w_pounds) and returns a number (the BMI). Finally, under if name == “__main__”, ask the user for inputs via input statements, provide the inputs to the function, and print its output."
   ]
  },
  {
   "cell_type": "code",
   "execution_count": 1,
   "id": "59fc4513-026c-4049-8c20-54f0ef602052",
   "metadata": {},
   "outputs": [
    {
     "name": "stdin",
     "output_type": "stream",
     "text": [
      "Provide height (inches):  10\n",
      "Provide weight (pounds):  10\n"
     ]
    }
   ],
   "source": [
    "def body_mass_index(h_inches, w_pounds):\n",
    "    bmi= (w_pounds/h_inches**2)*703\n",
    "    return bmi\n",
    "\n",
    "h_inches= float(input(\"Provide height (inches): \"))\n",
    "w_pounds= float(input(\"Provide weight (pounds): \"))"
   ]
  }
 ],
 "metadata": {
  "kernelspec": {
   "display_name": "Python 3 (ipykernel)",
   "language": "python",
   "name": "python3"
  },
  "language_info": {
   "codemirror_mode": {
    "name": "ipython",
    "version": 3
   },
   "file_extension": ".py",
   "mimetype": "text/x-python",
   "name": "python",
   "nbconvert_exporter": "python",
   "pygments_lexer": "ipython3",
   "version": "3.9.13"
  }
 },
 "nbformat": 4,
 "nbformat_minor": 5
}
